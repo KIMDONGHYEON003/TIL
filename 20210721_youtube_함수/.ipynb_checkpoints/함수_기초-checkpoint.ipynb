{
 "cells": [
  {
   "cell_type": "markdown",
   "id": "26ead581",
   "metadata": {},
   "source": [
    "# 함수"
   ]
  },
  {
   "cell_type": "code",
   "execution_count": 2,
   "id": "a8ef2023",
   "metadata": {},
   "outputs": [],
   "source": [
    "import statistics"
   ]
  },
  {
   "cell_type": "code",
   "execution_count": 3,
   "id": "50185b93",
   "metadata": {},
   "outputs": [
    {
     "data": {
      "text/plain": [
       "<function statistics.pstdev(data, mu=None)>"
      ]
     },
     "execution_count": 3,
     "metadata": {},
     "output_type": "execute_result"
    }
   ],
   "source": [
    "statistics.pstdev\n",
    "# vsc에서 docstring 확인 가능"
   ]
  },
  {
   "cell_type": "code",
   "execution_count": 4,
   "id": "47de43cb",
   "metadata": {},
   "outputs": [
    {
     "data": {
      "text/plain": [
       "'Return the square root of the population variance.\\n\\n    See ``pvariance`` for arguments and other details.\\n\\n    >>> pstdev([1.5, 2.5, 2.5, 2.75, 3.25, 4.75])\\n    0.986893273527251\\n\\n    '"
      ]
     },
     "execution_count": 4,
     "metadata": {},
     "output_type": "execute_result"
    }
   ],
   "source": [
    "statistics.pstdev.__doc__\n",
    "## docstring 확인 가능 코드"
   ]
  },
  {
   "cell_type": "code",
   "execution_count": 7,
   "id": "5f40dd1d",
   "metadata": {},
   "outputs": [],
   "source": [
    "# 내장함수를 제외한 모듈 함수는\n",
    "# 별도로 가져와서 사용해야함"
   ]
  },
  {
   "cell_type": "markdown",
   "id": "da9b3c39",
   "metadata": {},
   "source": [
    "### 함수 호출"
   ]
  },
  {
   "cell_type": "code",
   "execution_count": 5,
   "id": "98184e28",
   "metadata": {},
   "outputs": [
    {
     "data": {
      "text/plain": [
       "True"
      ]
     },
     "execution_count": 5,
     "metadata": {},
     "output_type": "execute_result"
    }
   ],
   "source": [
    "def foo():\n",
    "    return True\n",
    "foo()"
   ]
  },
  {
   "cell_type": "code",
   "execution_count": 6,
   "id": "5e63e942",
   "metadata": {},
   "outputs": [
    {
     "data": {
      "text/plain": [
       "3"
      ]
     },
     "execution_count": 6,
     "metadata": {},
     "output_type": "execute_result"
    }
   ],
   "source": [
    "def add(x,y):\n",
    "    return x+y\n",
    "add(1,2)"
   ]
  },
  {
   "cell_type": "code",
   "execution_count": 8,
   "id": "1816d4ff",
   "metadata": {},
   "outputs": [
    {
     "name": "stdout",
     "output_type": "stream",
     "text": [
      "9\n"
     ]
    }
   ],
   "source": [
    "num1 = 0\n",
    "num2 = 1\n",
    "\n",
    "def func1(a,b):\n",
    "    return a+b\n",
    "\n",
    "def func2(a,b):\n",
    "    return a-b\n",
    "\n",
    "def func3(a,b):\n",
    "    return func1(a,5) + func2(5,b)\n",
    "\n",
    "result = func3(num1,num2)\n",
    "print(result)"
   ]
  },
  {
   "cell_type": "code",
   "execution_count": 3,
   "id": "2312869d",
   "metadata": {},
   "outputs": [
    {
     "name": "stdout",
     "output_type": "stream",
     "text": [
      "8 1000000\n"
     ]
    }
   ],
   "source": [
    "# 세제곱 함수\n",
    "def cube(x):\n",
    "    return x**3\n",
    "\n",
    "print(cube(2),cube(100))"
   ]
  },
  {
   "cell_type": "code",
   "execution_count": 7,
   "id": "c279ae42",
   "metadata": {},
   "outputs": [
    {
     "name": "stdout",
     "output_type": "stream",
     "text": [
      "hi\n",
      "None\n"
     ]
    }
   ],
   "source": [
    "# return 사용해야함\n",
    "def greeting():\n",
    "    print('hi')\n",
    "    \n",
    "my_var=greeting()\n",
    "print(my_var)\n",
    "\n",
    "# 함수는 항상 반환되는 값이 있으며, 어떠한 객체라도 상관 없음\n",
    "# 오직 한 개의 객체만 리턴됨\n",
    "# 명시적인 return이 없는 경우 none값을 반환"
   ]
  },
  {
   "cell_type": "code",
   "execution_count": null,
   "id": "71e82bc3",
   "metadata": {},
   "outputs": [],
   "source": [
    "# return은 함수 안에서만 사용\n",
    "# print는 출력을 위해 사용되는 함수\n",
    "# REPL(ex jupyter notebook) 환경에서는 마지막으로 작성된 코드의 리턴 값을 보여주므로\n",
    "# 같은 동작을 하는 것으로 착각할 수 있음"
   ]
  },
  {
   "cell_type": "code",
   "execution_count": 9,
   "id": "d948e9e1",
   "metadata": {},
   "outputs": [
    {
     "name": "stdout",
     "output_type": "stream",
     "text": [
      "(600, 100)\n"
     ]
    }
   ],
   "source": [
    "# 사각형의 넓이\n",
    "def rectangle(x,y):\n",
    "    return x*y,2*(x+y)\n",
    "\n",
    "print(rectangle(20,30))"
   ]
  },
  {
   "cell_type": "code",
   "execution_count": 10,
   "id": "e0ff1401",
   "metadata": {},
   "outputs": [],
   "source": [
    "# 위치 인지 전달인자\n",
    "# 기본적으로 함수 호출 시 인자는 위치에 따라 함수 내에 전달됨\n",
    "\n",
    "# parameter(매개변수)\n",
    "# 함수에 입력으로 전달된 값을 받는 변수\n",
    "def my_func(a,b):\n",
    "    pass\n",
    "# ㄴ a,b는 매개변수\n",
    "\n",
    "# argument( 인자, 인수, 전달 인자)\n",
    "# 함수를 호출할 때 함수에 전달하는 입력값\n",
    "my_func(1,2)\n",
    "# ㄴ 1,2는 arugument"
   ]
  },
  {
   "cell_type": "code",
   "execution_count": null,
   "id": "607d8218",
   "metadata": {},
   "outputs": [],
   "source": [
    "# 키워드  인자\n",
    "# 직접 변수의 이름으로 특정 인자를 전달할 수 있음\n",
    "# 키워드 인자 다음에 위치 인자를 활용할 수 없음\n",
    "def add(x,y):\n",
    "    return x+y\n",
    "\n",
    "add(x=2, 3)"
   ]
  },
  {
   "cell_type": "code",
   "execution_count": 12,
   "id": "c4eecfb1",
   "metadata": {
    "scrolled": true
   },
   "outputs": [
    {
     "name": "stdout",
     "output_type": "stream",
     "text": [
      "2\n",
      "-----------------\n",
      "2\n",
      "3\n",
      "4\n",
      "5\n"
     ]
    }
   ],
   "source": [
    "# 가변 인자 리스트\n",
    "# 함수가 임의의 개수 인자로 호출될 수 있도록 지정\n",
    "# 인자들은 튜플로 묶여 처리, 매개변수에 *을 붙여 표현\n",
    "\n",
    "def add(*args):\n",
    "    for arg in args:\n",
    "        print(arg)\n",
    "add(2)\n",
    "print(\"-----------------\")\n",
    "add(2,3,4,5)"
   ]
  },
  {
   "cell_type": "code",
   "execution_count": 14,
   "id": "98bcd12b",
   "metadata": {
    "collapsed": true
   },
   "outputs": [
    {
     "ename": "ValueError",
     "evalue": "too many values to unpack (expected 2)",
     "output_type": "error",
     "traceback": [
      "\u001b[1;31m---------------------------------------------------------------------------\u001b[0m",
      "\u001b[1;31mValueError\u001b[0m                                Traceback (most recent call last)",
      "\u001b[1;32m~\\AppData\\Local\\Temp/ipykernel_17520/1775117492.py\u001b[0m in \u001b[0;36m<module>\u001b[1;34m\u001b[0m\n\u001b[0;32m      6\u001b[0m         \u001b[0mprint\u001b[0m\u001b[1;33m(\u001b[0m\u001b[0mkey\u001b[0m\u001b[1;33m,\u001b[0m \u001b[1;34m\":\"\u001b[0m\u001b[1;33m,\u001b[0m \u001b[0mvalue\u001b[0m\u001b[1;33m)\u001b[0m\u001b[1;33m\u001b[0m\u001b[1;33m\u001b[0m\u001b[0m\n\u001b[0;32m      7\u001b[0m \u001b[1;33m\u001b[0m\u001b[0m\n\u001b[1;32m----> 8\u001b[1;33m \u001b[0mfamily\u001b[0m\u001b[1;33m(\u001b[0m\u001b[0mfather\u001b[0m\u001b[1;33m=\u001b[0m\u001b[1;34m'John'\u001b[0m\u001b[1;33m,\u001b[0m \u001b[0mmother\u001b[0m \u001b[1;33m=\u001b[0m \u001b[1;34m'Jane'\u001b[0m\u001b[1;33m,\u001b[0m \u001b[0mme\u001b[0m \u001b[1;33m=\u001b[0m \u001b[1;34m\"John Jr.\"\u001b[0m\u001b[1;33m)\u001b[0m\u001b[1;33m\u001b[0m\u001b[1;33m\u001b[0m\u001b[0m\n\u001b[0m",
      "\u001b[1;32m~\\AppData\\Local\\Temp/ipykernel_17520/1775117492.py\u001b[0m in \u001b[0;36mfamily\u001b[1;34m(**kwargs)\u001b[0m\n\u001b[0;32m      3\u001b[0m \u001b[1;33m\u001b[0m\u001b[0m\n\u001b[0;32m      4\u001b[0m \u001b[1;32mdef\u001b[0m \u001b[0mfamily\u001b[0m\u001b[1;33m(\u001b[0m\u001b[1;33m**\u001b[0m\u001b[0mkwargs\u001b[0m\u001b[1;33m)\u001b[0m\u001b[1;33m:\u001b[0m\u001b[1;33m\u001b[0m\u001b[1;33m\u001b[0m\u001b[0m\n\u001b[1;32m----> 5\u001b[1;33m     \u001b[1;32mfor\u001b[0m \u001b[0mkey\u001b[0m\u001b[1;33m,\u001b[0m \u001b[0mvalue\u001b[0m \u001b[1;32min\u001b[0m \u001b[0mkwargs\u001b[0m\u001b[1;33m:\u001b[0m\u001b[1;33m\u001b[0m\u001b[1;33m\u001b[0m\u001b[0m\n\u001b[0m\u001b[0;32m      6\u001b[0m         \u001b[0mprint\u001b[0m\u001b[1;33m(\u001b[0m\u001b[0mkey\u001b[0m\u001b[1;33m,\u001b[0m \u001b[1;34m\":\"\u001b[0m\u001b[1;33m,\u001b[0m \u001b[0mvalue\u001b[0m\u001b[1;33m)\u001b[0m\u001b[1;33m\u001b[0m\u001b[1;33m\u001b[0m\u001b[0m\n\u001b[0;32m      7\u001b[0m \u001b[1;33m\u001b[0m\u001b[0m\n",
      "\u001b[1;31mValueError\u001b[0m: too many values to unpack (expected 2)"
     ]
    }
   ],
   "source": [
    "# 가변 키워드 인자\n",
    "# **을 붙여 표현 딕셔너리로 묶임\n",
    "\n",
    "def family(**kwargs):\n",
    "    for key, value in kwargs:\n",
    "        print(key, \":\", value)\n",
    "        \n",
    "family(father='John', mother = 'Jane', me = \"John Jr.\")"
   ]
  },
  {
   "cell_type": "code",
   "execution_count": null,
   "id": "49efc280",
   "metadata": {},
   "outputs": [],
   "source": [
    "# 함수 스코프\n",
    "# 함수는 코드 내부에 지역 스코프를 생성하며\n",
    "# 그 외 공간인 전역 스코프로 구분\n",
    "\n",
    "# 스코프\n",
    "# 전역 스코프 : 코드 어디에서든 참조할 수 있는 공간\n",
    "# 지역 스코프 : 함수가 만든 스코프. 함수 내부에서만 참조 가능\n",
    "\n",
    "# 변수\n",
    "# 전역변수 : 전역 스코프에 정의된 변수\n",
    "# 비역 변수 : 지역 스코프 = "
   ]
  },
  {
   "cell_type": "code",
   "execution_count": null,
   "id": "a67b135e",
   "metadata": {},
   "outputs": [],
   "source": [
    "# 변수 수명 주기\n",
    "# 변수는 각자 수명주기가 존재\n",
    "\n",
    "# 빌트인 스코프 : 파이썬이 실행된 이후 영원히\n",
    "# 전역 스코프 : 모듈이 호출된 시점 이후 혹은 인터프리터가 끝날 때까지\n",
    "# 지역 스코프 : 함수가 호출될 때 생성되고, 함수가 종료될 때까지\n"
   ]
  },
  {
   "cell_type": "code",
   "execution_count": 15,
   "id": "6b505a02",
   "metadata": {},
   "outputs": [
    {
     "name": "stdout",
     "output_type": "stream",
     "text": [
      "local 20\n"
     ]
    },
    {
     "ename": "NameError",
     "evalue": "name 'a' is not defined",
     "output_type": "error",
     "traceback": [
      "\u001b[1;31m---------------------------------------------------------------------------\u001b[0m",
      "\u001b[1;31mNameError\u001b[0m                                 Traceback (most recent call last)",
      "\u001b[1;32m~\\AppData\\Local\\Temp/ipykernel_17520/2429621946.py\u001b[0m in \u001b[0;36m<module>\u001b[1;34m\u001b[0m\n\u001b[0;32m      5\u001b[0m \u001b[1;33m\u001b[0m\u001b[0m\n\u001b[0;32m      6\u001b[0m \u001b[0mfunc\u001b[0m\u001b[1;33m(\u001b[0m\u001b[1;33m)\u001b[0m\u001b[1;33m\u001b[0m\u001b[1;33m\u001b[0m\u001b[0m\n\u001b[1;32m----> 7\u001b[1;33m \u001b[0mprint\u001b[0m\u001b[1;33m(\u001b[0m\u001b[1;34m'global'\u001b[0m\u001b[1;33m,\u001b[0m \u001b[0ma\u001b[0m\u001b[1;33m)\u001b[0m\u001b[1;33m\u001b[0m\u001b[1;33m\u001b[0m\u001b[0m\n\u001b[0m",
      "\u001b[1;31mNameError\u001b[0m: name 'a' is not defined"
     ]
    }
   ],
   "source": [
    "# 함수 스코프 예시\n",
    "def func():\n",
    "    a=20\n",
    "    print('local', a)\n",
    "    \n",
    "func()\n",
    "print('global', a)"
   ]
  },
  {
   "cell_type": "code",
   "execution_count": 16,
   "id": "41da36f1",
   "metadata": {},
   "outputs": [],
   "source": [
    "# LEGB Rule\n",
    "# local scope : 함수\n",
    "# enclosed scope : 특정함수의 상위함수\n",
    "# global scope : 함수 밖의 변수, import 모듈\n",
    "# built in scope : 파이썬 안에 내장되어 있는 함수 또는 속성\n",
    "\n",
    "# 즉, 함수 내에서는 바깥 스코프의 변수에 접근 가능하나 수정은 할 수 없음"
   ]
  },
  {
   "cell_type": "code",
   "execution_count": null,
   "id": "022a5cab",
   "metadata": {},
   "outputs": [],
   "source": [
    "# 가변"
   ]
  },
  {
   "cell_type": "code",
   "execution_count": null,
   "id": "95770f4e",
   "metadata": {},
   "outputs": [],
   "source": [
    "def get_numbers(a, *args):\n",
    "    return a, args\n",
    "\n",
    "print(get)"
   ]
  },
  {
   "cell_type": "code",
   "execution_count": null,
   "id": "34bea3f3",
   "metadata": {},
   "outputs": [],
   "source": []
  },
  {
   "cell_type": "code",
   "execution_count": null,
   "id": "d9ebfeda",
   "metadata": {},
   "outputs": [],
   "source": []
  },
  {
   "cell_type": "code",
   "execution_count": null,
   "id": "69948868",
   "metadata": {},
   "outputs": [],
   "source": []
  },
  {
   "cell_type": "code",
   "execution_count": null,
   "id": "b0529b5f",
   "metadata": {},
   "outputs": [],
   "source": []
  },
  {
   "cell_type": "code",
   "execution_count": null,
   "id": "3b6dff09",
   "metadata": {},
   "outputs": [],
   "source": []
  }
 ],
 "metadata": {
  "kernelspec": {
   "display_name": "Python 3 (ipykernel)",
   "language": "python",
   "name": "python3"
  },
  "language_info": {
   "codemirror_mode": {
    "name": "ipython",
    "version": 3
   },
   "file_extension": ".py",
   "mimetype": "text/x-python",
   "name": "python",
   "nbconvert_exporter": "python",
   "pygments_lexer": "ipython3",
   "version": "3.9.6"
  },
  "toc": {
   "base_numbering": 1,
   "nav_menu": {},
   "number_sections": true,
   "sideBar": true,
   "skip_h1_title": false,
   "title_cell": "Table of Contents",
   "title_sidebar": "Contents",
   "toc_cell": false,
   "toc_position": {},
   "toc_section_display": true,
   "toc_window_display": false
  }
 },
 "nbformat": 4,
 "nbformat_minor": 5
}
