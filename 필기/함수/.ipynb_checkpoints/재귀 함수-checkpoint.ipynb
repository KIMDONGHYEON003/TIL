{
 "cells": [
  {
   "cell_type": "markdown",
   "id": "6c7c7664",
   "metadata": {},
   "source": [
    "# 재귀함수"
   ]
  },
  {
   "cell_type": "markdown",
   "id": "62e1eea2",
   "metadata": {},
   "source": [
    "- 자기 자신을 호출하는 함수\n",
    "- 무한한 호출을 목표하는 것이 아니며, 알고리즘 설계 및 구현에서 유용\n",
    "-- 알고리즘 중 재귀 함수로 로직을 표현하기 쉬운 경우가 있음 ( 점화식)\n",
    "-- 변수의 사용이 줄어들며, 코드의 가독성이 높아짐"
   ]
  },
  {
   "cell_type": "markdown",
   "id": "c1b8715e",
   "metadata": {},
   "source": [
    "- 1개 이상의 base case가 존재하고 수렴하도록 작성\n",
    "-- 같은 문제를 다른 인풋 값을 통해서 해결하는 과정\n"
   ]
  },
  {
   "cell_type": "code",
   "execution_count": 3,
   "id": "e4844b49",
   "metadata": {},
   "outputs": [
    {
     "name": "stdout",
     "output_type": "stream",
     "text": [
      "6\n"
     ]
    },
    {
     "data": {
      "text/plain": [
       "3628800"
      ]
     },
     "execution_count": 3,
     "metadata": {},
     "output_type": "execute_result"
    }
   ],
   "source": [
    "# 팩토리얼 계산을 위한 반복문으로 작성\n",
    "def fact(n):\n",
    "    result = 1\n",
    "    while n >1 :\n",
    "        result = result * n\n",
    "        n -= 1\n",
    "    return result\n",
    "\n",
    "print(fact(3)) # 6\n",
    "fact(10)"
   ]
  },
  {
   "cell_type": "code",
   "execution_count": 5,
   "id": "e3d00d32",
   "metadata": {},
   "outputs": [
    {
     "data": {
      "text/plain": [
       "24"
      ]
     },
     "execution_count": 5,
     "metadata": {},
     "output_type": "execute_result"
    }
   ],
   "source": [
    "# 팩토리얼 계산을 위한 재귀 함수로 작성\n",
    "def fatorial1(n):\n",
    "    if n ==1:\n",
    "        return n\n",
    "    else:\n",
    "        return n*fatorial1(n-1)\n",
    "    \n",
    "fatorial1(4)"
   ]
  },
  {
   "cell_type": "markdown",
   "id": "04d4b373",
   "metadata": {},
   "source": [
    "- 재귀함수 주의사항\n",
    "--재귀함수는 base case에 도달할 때까지 함수를 호출함\n",
    "-- 메모리 스택이 넘치면 정지\n",
    "--파이썬에서는 최대 재귀 깊이가 1000번으로 호출 횟수가 이를 넘어가게 되면 recursion error 발생"
   ]
  },
  {
   "cell_type": "code",
   "execution_count": null,
   "id": "0a4bf50f",
   "metadata": {},
   "outputs": [],
   "source": [
    "# 피보나치 수열 재귀함수\n",
    "def fib(n):\n",
    "    # base case\n",
    "    if n < 2:\n",
    "        return n\n",
    "    else:\n",
    "        return fib(n-1) + fib(n-2)"
   ]
  },
  {
   "cell_type": "code",
   "execution_count": 6,
   "id": "4424260f",
   "metadata": {},
   "outputs": [],
   "source": [
    "# 피보나치 수열 반복문\n",
    "def fibo_for(n):\n",
    "    if n<2:\n",
    "        return n\n",
    "    a , b = 0,1\n",
    "    \n",
    "    for i in range(n-1):\n",
    "        a,b = b, a+b\n",
    "    return b"
   ]
  },
  {
   "cell_type": "code",
   "execution_count": null,
   "id": "3040ef85",
   "metadata": {},
   "outputs": [],
   "source": []
  },
  {
   "cell_type": "code",
   "execution_count": null,
   "id": "7c323077",
   "metadata": {},
   "outputs": [],
   "source": []
  },
  {
   "cell_type": "code",
   "execution_count": null,
   "id": "42f20a32",
   "metadata": {},
   "outputs": [],
   "source": []
  },
  {
   "cell_type": "code",
   "execution_count": null,
   "id": "73194a1d",
   "metadata": {},
   "outputs": [],
   "source": []
  },
  {
   "cell_type": "code",
   "execution_count": null,
   "id": "13a05412",
   "metadata": {},
   "outputs": [],
   "source": []
  }
 ],
 "metadata": {
  "kernelspec": {
   "display_name": "Python 3 (ipykernel)",
   "language": "python",
   "name": "python3"
  },
  "language_info": {
   "codemirror_mode": {
    "name": "ipython",
    "version": 3
   },
   "file_extension": ".py",
   "mimetype": "text/x-python",
   "name": "python",
   "nbconvert_exporter": "python",
   "pygments_lexer": "ipython3",
   "version": "3.9.6"
  },
  "toc": {
   "base_numbering": 1,
   "nav_menu": {},
   "number_sections": true,
   "sideBar": true,
   "skip_h1_title": false,
   "title_cell": "Table of Contents",
   "title_sidebar": "Contents",
   "toc_cell": false,
   "toc_position": {},
   "toc_section_display": true,
   "toc_window_display": false
  }
 },
 "nbformat": 4,
 "nbformat_minor": 5
}
