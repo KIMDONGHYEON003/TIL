{
 "cells": [
  {
   "cell_type": "code",
   "execution_count": null,
   "id": "3b1ace95",
   "metadata": {},
   "outputs": [],
   "source": []
  },
  {
   "cell_type": "code",
   "execution_count": 2,
   "id": "e2e09567",
   "metadata": {},
   "outputs": [
    {
     "data": {
      "text/plain": [
       "list"
      ]
     },
     "execution_count": 2,
     "metadata": {},
     "output_type": "execute_result"
    }
   ],
   "source": [
    "\n"
   ]
  },
  {
   "cell_type": "code",
   "execution_count": null,
   "id": "f1ec0261",
   "metadata": {},
   "outputs": [],
   "source": []
  },
  {
   "cell_type": "code",
   "execution_count": 11,
   "id": "ef693904",
   "metadata": {},
   "outputs": [
    {
     "data": {
      "text/plain": [
       "30"
      ]
     },
     "execution_count": 11,
     "metadata": {},
     "output_type": "execute_result"
    }
   ],
   "source": [
    "my_list = (list(range(1,31)))\n",
    "len(my_list)"
   ]
  },
  {
   "cell_type": "code",
   "execution_count": 13,
   "id": "5da5f348",
   "metadata": {
    "scrolled": false
   },
   "outputs": [
    {
     "data": {
      "text/plain": [
       "30"
      ]
     },
     "execution_count": 13,
     "metadata": {},
     "output_type": "execute_result"
    }
   ],
   "source": [
    "len(my_list)"
   ]
  },
  {
   "cell_type": "code",
   "execution_count": 15,
   "id": "5d263ebe",
   "metadata": {},
   "outputs": [
    {
     "data": {
      "text/plain": [
       "set"
      ]
     },
     "execution_count": 15,
     "metadata": {},
     "output_type": "execute_result"
    }
   ],
   "source": [
    "type(set(my_list))"
   ]
  },
  {
   "cell_type": "code",
   "execution_count": 24,
   "id": "cc264eee",
   "metadata": {},
   "outputs": [
    {
     "name": "stdout",
     "output_type": "stream",
     "text": [
      "dict_keys(['서울', '경기'])\n"
     ]
    },
    {
     "data": {
      "text/plain": [
       "'02'"
      ]
     },
     "execution_count": 24,
     "metadata": {},
     "output_type": "execute_result"
    }
   ],
   "source": [
    "phone_book = {'서울': '02', '경기': '031'}\n",
    "print(phone_book.keys())\n",
    "# print(phone_book.value('서울'))\n",
    "phone_book['서울']"
   ]
  },
  {
   "cell_type": "code",
   "execution_count": 27,
   "id": "3e6bcfcf",
   "metadata": {},
   "outputs": [
    {
     "name": "stdout",
     "output_type": "stream",
     "text": [
      "서울 02\n",
      "경기 031\n"
     ]
    }
   ],
   "source": [
    "for key, value in phone_book.items():\n",
    "    print(key, value)"
   ]
  },
  {
   "cell_type": "code",
   "execution_count": 35,
   "id": "6f6e3360",
   "metadata": {
    "scrolled": false
   },
   "outputs": [
    {
     "name": "stdout",
     "output_type": "stream",
     "text": [
      "[1, 2, 3, 4]\n"
     ]
    },
    {
     "ename": "TypeError",
     "evalue": "cannot convert dictionary update sequence element #0 to a sequence",
     "output_type": "error",
     "traceback": [
      "\u001b[1;31m---------------------------------------------------------------------------\u001b[0m",
      "\u001b[1;31mTypeError\u001b[0m                                 Traceback (most recent call last)",
      "\u001b[1;32m~\\AppData\\Local\\Temp/ipykernel_9552/3919171184.py\u001b[0m in \u001b[0;36m<module>\u001b[1;34m\u001b[0m\n\u001b[0;32m      2\u001b[0m \u001b[0mprint\u001b[0m\u001b[1;33m(\u001b[0m\u001b[0mlist\u001b[0m\u001b[1;33m(\u001b[0m\u001b[0mt\u001b[0m\u001b[1;33m)\u001b[0m\u001b[1;33m)\u001b[0m\u001b[1;33m\u001b[0m\u001b[1;33m\u001b[0m\u001b[0m\n\u001b[0;32m      3\u001b[0m \u001b[0mset\u001b[0m\u001b[1;33m(\u001b[0m\u001b[0mt\u001b[0m\u001b[1;33m)\u001b[0m\u001b[1;33m\u001b[0m\u001b[1;33m\u001b[0m\u001b[0m\n\u001b[1;32m----> 4\u001b[1;33m \u001b[0mdict\u001b[0m\u001b[1;33m(\u001b[0m\u001b[0mt\u001b[0m\u001b[1;33m)\u001b[0m\u001b[1;33m\u001b[0m\u001b[1;33m\u001b[0m\u001b[0m\n\u001b[0m",
      "\u001b[1;31mTypeError\u001b[0m: cannot convert dictionary update sequence element #0 to a sequence"
     ]
    }
   ],
   "source": [
    "t = (1, 2, 3, 4)\n",
    "print(list(t))\n",
    "set(t)\n",
    "dict(t)"
   ]
  },
  {
   "cell_type": "code",
   "execution_count": 42,
   "id": "ae5fd5bc",
   "metadata": {},
   "outputs": [
    {
     "data": {
      "text/plain": [
       "[1, 2, 3, 4]"
      ]
     },
     "execution_count": 42,
     "metadata": {},
     "output_type": "execute_result"
    }
   ],
   "source": [
    "r = range(1,5)\n",
    "list(r)"
   ]
  },
  {
   "cell_type": "code",
   "execution_count": 41,
   "id": "7b627210",
   "metadata": {
    "scrolled": true
   },
   "outputs": [
    {
     "ename": "NameError",
     "evalue": "name 'keys' is not defined",
     "output_type": "error",
     "traceback": [
      "\u001b[1;31m---------------------------------------------------------------------------\u001b[0m",
      "\u001b[1;31mNameError\u001b[0m                                 Traceback (most recent call last)",
      "\u001b[1;32m~\\AppData\\Local\\Temp/ipykernel_9552/3942278115.py\u001b[0m in \u001b[0;36m<module>\u001b[1;34m\u001b[0m\n\u001b[0;32m      1\u001b[0m \u001b[0md\u001b[0m \u001b[1;33m=\u001b[0m \u001b[1;33m{\u001b[0m\u001b[1;34m'name'\u001b[0m\u001b[1;33m:\u001b[0m \u001b[1;34m'ssafy'\u001b[0m\u001b[1;33m,\u001b[0m \u001b[1;34m'year'\u001b[0m\u001b[1;33m:\u001b[0m \u001b[1;36m2020\u001b[0m\u001b[1;33m}\u001b[0m\u001b[1;33m\u001b[0m\u001b[1;33m\u001b[0m\u001b[0m\n\u001b[1;32m----> 2\u001b[1;33m \u001b[0mlist\u001b[0m\u001b[1;33m(\u001b[0m\u001b[0mkeys\u001b[0m\u001b[1;33m(\u001b[0m\u001b[0md\u001b[0m\u001b[1;33m)\u001b[0m\u001b[1;33m)\u001b[0m\u001b[1;33m\u001b[0m\u001b[1;33m\u001b[0m\u001b[0m\n\u001b[0m",
      "\u001b[1;31mNameError\u001b[0m: name 'keys' is not defined"
     ]
    }
   ],
   "source": [
    "d = {'name': 'ssafy', 'year': 2020}\n"
   ]
  },
  {
   "cell_type": "code",
   "execution_count": 43,
   "id": "33af601f",
   "metadata": {},
   "outputs": [
    {
     "ename": "SyntaxError",
     "evalue": "'return' outside function (Temp/ipykernel_9552/4142619684.py, line 1)",
     "output_type": "error",
     "traceback": [
      "\u001b[1;36m  File \u001b[1;32m\"C:\\Users\\user\\AppData\\Local\\Temp/ipykernel_9552/4142619684.py\"\u001b[1;36m, line \u001b[1;32m1\u001b[0m\n\u001b[1;33m    return r\u001b[0m\n\u001b[1;37m    ^\u001b[0m\n\u001b[1;31mSyntaxError\u001b[0m\u001b[1;31m:\u001b[0m 'return' outside function\n"
     ]
    }
   ],
   "source": [
    "return r"
   ]
  },
  {
   "cell_type": "code",
   "execution_count": 59,
   "id": "422eb4eb",
   "metadata": {},
   "outputs": [
    {
     "name": "stdout",
     "output_type": "stream",
     "text": [
      "0.3 / 0.3\n"
     ]
    }
   ],
   "source": [
    "num1 = 0.1*3\n",
    "num2 = 0.3\n",
    "print('%.1f / %.1f' %(num1,num2\n",
    "                      "
   ]
  },
  {
   "cell_type": "code",
   "execution_count": 62,
   "id": "39e93fd6",
   "metadata": {},
   "outputs": [
    {
     "name": "stdout",
     "output_type": "stream",
     "text": [
      "안녕, 철수야\n",
      "안녕, 철수야\n"
     ]
    }
   ],
   "source": [
    "name = '철수'\n",
    "print(\"안녕, %s야\" % name)\n",
    "print(f\"안녕, {name}야\")"
   ]
  },
  {
   "cell_type": "code",
   "execution_count": 63,
   "id": "e685d555",
   "metadata": {},
   "outputs": [
    {
     "ename": "ValueError",
     "evalue": "invalid literal for int() with base 10: '3.5'",
     "output_type": "error",
     "traceback": [
      "\u001b[1;31m---------------------------------------------------------------------------\u001b[0m",
      "\u001b[1;31mValueError\u001b[0m                                Traceback (most recent call last)",
      "\u001b[1;32m~\\AppData\\Local\\Temp/ipykernel_9552/509476775.py\u001b[0m in \u001b[0;36m<module>\u001b[1;34m\u001b[0m\n\u001b[1;32m----> 1\u001b[1;33m \u001b[0mint\u001b[0m\u001b[1;33m(\u001b[0m\u001b[1;34m'3.5'\u001b[0m\u001b[1;33m)\u001b[0m\u001b[1;33m\u001b[0m\u001b[1;33m\u001b[0m\u001b[0m\n\u001b[0m",
      "\u001b[1;31mValueError\u001b[0m: invalid literal for int() with base 10: '3.5'"
     ]
    }
   ],
   "source": [
    "int('3.5')"
   ]
  },
  {
   "cell_type": "code",
   "execution_count": 69,
   "id": "3c66825f",
   "metadata": {},
   "outputs": [
    {
     "name": "stdout",
     "output_type": "stream",
     "text": [
      "*****\n",
      "*****\n",
      "*****\n",
      "*****\n",
      "*****\n",
      "*****\n",
      "\n"
     ]
    }
   ],
   "source": [
    "n=5\n",
    "m=9\n",
    "row = \"*\"*5\n",
    "print((row+'\\n')*6)"
   ]
  },
  {
   "cell_type": "code",
   "execution_count": 82,
   "id": "87639fe2",
   "metadata": {},
   "outputs": [
    {
     "name": "stdout",
     "output_type": "stream",
     "text": [
      "[1, 3, 5, 7, 9, 11, 13, 15, 17, 19, 21, 23, 25, 27, 29, 31, 33, 35, 37, 39, 41, 43, 45, 47, 49]"
     ]
    }
   ],
   "source": [
    "a = list(range(1,51))\n",
    "print(a[0:51:2], end=\"\")"
   ]
  },
  {
   "cell_type": "code",
   "execution_count": 85,
   "id": "0d0dfae9",
   "metadata": {},
   "outputs": [
    {
     "data": {
      "text/plain": [
       "dict"
      ]
     },
     "execution_count": 85,
     "metadata": {},
     "output_type": "execute_result"
    }
   ],
   "source": [
    "seoul2 = {'김동현' : 27}\n",
    "type(seoul2)"
   ]
  },
  {
   "cell_type": "code",
   "execution_count": 87,
   "id": "fdb530bc",
   "metadata": {},
   "outputs": [
    {
     "name": "stdout",
     "output_type": "stream",
     "text": [
      "*********\n",
      "\n",
      "*********\n",
      "\n",
      "*********\n",
      "\n",
      "*********\n",
      "\n",
      "*********\n",
      "\n"
     ]
    }
   ],
   "source": [
    "n=5\n",
    "m=9\n",
    "for _ in range(n):\n",
    "    for _ in range(m):\n",
    "        print(\"*\", end=\"\")\n",
    "    print(\"\\n\")"
   ]
  },
  {
   "cell_type": "code",
   "execution_count": 94,
   "id": "91e4a65e",
   "metadata": {},
   "outputs": [
    {
     "name": "stdout",
     "output_type": "stream",
     "text": [
      "입실 가능\n"
     ]
    }
   ],
   "source": [
    "temp = 36.5\n",
    "print(\"입실 불가\")  if temp >= 37.5 else print(\"입실 가능\");"
   ]
  },
  {
   "cell_type": "code",
   "execution_count": 96,
   "id": "37d0cd89",
   "metadata": {},
   "outputs": [
    {
     "name": "stdout",
     "output_type": "stream",
     "text": [
      "87.75\n"
     ]
    }
   ],
   "source": [
    "scores = [80, 89, 99, 83]\n",
    "total = 0\n",
    "for i in scores:\n",
    "    total = total + i\n",
    "print(total / len(scores))"
   ]
  },
  {
   "cell_type": "code",
   "execution_count": 100,
   "id": "42e0a0bb",
   "metadata": {},
   "outputs": [
    {
     "name": "stdout",
     "output_type": "stream",
     "text": [
      "20\n",
      "1 2 4 5 10 20 "
     ]
    }
   ],
   "source": [
    "n = int(input())\n",
    "if 1<= n <= 1000:\n",
    "    for i in range(1,n+1):\n",
    "        if n % i == 0:\n",
    "            print(f'{i} ', end=\"\")\n",
    "        "
   ]
  },
  {
   "cell_type": "code",
   "execution_count": 114,
   "id": "511ba100",
   "metadata": {},
   "outputs": [
    {
     "name": "stdout",
     "output_type": "stream",
     "text": [
      "64\n"
     ]
    }
   ],
   "source": [
    "numbers = [\n",
    "    85,72,38,80,69,65,68,96,22,49,67,\n",
    "    51,61,63,87,66,24,80,83,71,60,64,\n",
    "    52,90,60,49,31,23,99,94,11,25, 24\n",
    "]\n",
    "numbers = sorted(numbers)\n",
    "\n",
    "if len(numbers) % 2 ==0:\n",
    "    print(numbers[len(numbers)//2], numbers[(len(numbers)//2)-1])\n",
    "else:\n",
    "    print(numbers[len(numbers)//2])"
   ]
  },
  {
   "cell_type": "code",
   "execution_count": 120,
   "id": "65df0e70",
   "metadata": {},
   "outputs": [
    {
     "name": "stdout",
     "output_type": "stream",
     "text": [
      "4\n",
      "1\n",
      "\n",
      "12\n",
      "\n",
      "123\n",
      "\n",
      "1234\n",
      "\n"
     ]
    }
   ],
   "source": [
    "num = int(input())\n",
    "for i in range(1,num+1):\n",
    "    for j in range(1,i+1):\n",
    "        print(j, end=\"\")\n",
    "    print(\"\\n\")"
   ]
  },
  {
   "cell_type": "code",
   "execution_count": 123,
   "id": "ba46fe0a",
   "metadata": {},
   "outputs": [
    {
     "name": "stdout",
     "output_type": "stream",
     "text": [
      "a\n",
      "i d\n"
     ]
    }
   ],
   "source": [
    "def get_middel_char(s):\n",
    "    if len(s) % 2 ==0:\n",
    "        print(s[len(s)//2], s[(len(s)//2)-1])\n",
    "    else:\n",
    "        print(s[len(s)//2])\n",
    "\n",
    "get_middel_char('ssafy')\n",
    "get_middel_char('coding')"
   ]
  },
  {
   "cell_type": "code",
   "execution_count": 127,
   "id": "a5277e11",
   "metadata": {},
   "outputs": [
    {
     "name": "stdout",
     "output_type": "stream",
     "text": [
      "81.0\n"
     ]
    }
   ],
   "source": [
    "def my_avg(*num):\n",
    "    total = 0\n",
    "    for i in num:\n",
    "        total = total + i\n",
    "    return total / len(num)\n",
    "    \n",
    "    \n",
    "print(my_avg(77,83,95,80,70))"
   ]
  },
  {
   "cell_type": "code",
   "execution_count": 130,
   "id": "5366f848",
   "metadata": {},
   "outputs": [
    {
     "name": "stdout",
     "output_type": "stream",
     "text": [
      "28\n"
     ]
    }
   ],
   "source": [
    "def list_sum(numbers):\n",
    "    total = 0\n",
    "    for i in numbers:\n",
    "        total = total + i\n",
    "    return total\n",
    "\n",
    "print(list_sum([1,2,3,4,5,6,7]))"
   ]
  },
  {
   "cell_type": "code",
   "execution_count": 141,
   "id": "5d81a99e",
   "metadata": {},
   "outputs": [
    {
     "data": {
      "text/plain": [
       "16"
      ]
     },
     "execution_count": 141,
     "metadata": {},
     "output_type": "execute_result"
    }
   ],
   "source": [
    "def dict_list_sum(info):\n",
    "    total = 0\n",
    "    for i in range(0,len(info)):\n",
    "        total = total + info[i].get('age')\n",
    "    return total\n",
    "\n",
    "dict_list_sum([{'name':'kim', 'age':12}, {'name':'lee', 'age' : 4}])"
   ]
  },
  {
   "cell_type": "code",
   "execution_count": 139,
   "id": "bd52fbcd",
   "metadata": {},
   "outputs": [
    {
     "data": {
      "text/plain": [
       "4"
      ]
     },
     "execution_count": 139,
     "metadata": {},
     "output_type": "execute_result"
    }
   ],
   "source": [
    "info =[{'name':'kim', 'age':12}, {'name':'lee', 'age' : 4}]\n",
    "info[1].get('age')"
   ]
  },
  {
   "cell_type": "code",
   "execution_count": 155,
   "id": "10e0e226",
   "metadata": {},
   "outputs": [
    {
     "data": {
      "text/plain": [
       "55"
      ]
     },
     "execution_count": 155,
     "metadata": {},
     "output_type": "execute_result"
    }
   ],
   "source": [
    "def all_list_sum(lists):\n",
    "    total = 0\n",
    "    for i in range(0,len(lists)):\n",
    "        for j in range(0,len(lists[i])):\n",
    "            total = total + lists[i][j]\n",
    "    return total\n",
    "\n",
    "all_list_sum([[1],[2,3],[4,5,6],[7,8,9,10]])"
   ]
  },
  {
   "cell_type": "code",
   "execution_count": 150,
   "id": "deffeef3",
   "metadata": {},
   "outputs": [
    {
     "data": {
      "text/plain": [
       "[7, 8, 9, 10]"
      ]
     },
     "execution_count": 150,
     "metadata": {},
     "output_type": "execute_result"
    }
   ],
   "source": [
    "lists = [[1],[2,3],[4,5,6],[7,8,9,10]]\n",
    "lists[3]"
   ]
  },
  {
   "cell_type": "code",
   "execution_count": 154,
   "id": "a2f03c3b",
   "metadata": {
    "scrolled": true
   },
   "outputs": [
    {
     "name": "stdout",
     "output_type": "stream",
     "text": [
      "55\n"
     ]
    }
   ],
   "source": [
    "def all_list_sum(numbers):\n",
    "    total = 0\n",
    "\n",
    "    for i in range(0,len(numbers)):\n",
    "        for j in range(0,len(numbers[i])):\n",
    "            total = total + numbers[i][j]\n",
    "\n",
    "    return total\n",
    "\n",
    "print( all_list_sum([[1],[2,3],[4,5,6],[7,8,9,10]]) )"
   ]
  },
  {
   "cell_type": "code",
   "execution_count": 156,
   "id": "b6ac7078",
   "metadata": {},
   "outputs": [
    {
     "data": {
      "text/plain": [
       "'A'"
      ]
     },
     "execution_count": 156,
     "metadata": {},
     "output_type": "execute_result"
    }
   ],
   "source": [
    "chr(65)"
   ]
  },
  {
   "cell_type": "code",
   "execution_count": 164,
   "id": "84c97164",
   "metadata": {},
   "outputs": [
    {
     "data": {
      "text/plain": [
       "'S s A f Y'"
      ]
     },
     "execution_count": 164,
     "metadata": {},
     "output_type": "execute_result"
    }
   ],
   "source": [
    "def get_secret_word(numbers):\n",
    "    sentence = []\n",
    "    for i in numbers:\n",
    "        sentence.append(chr(i))\n",
    "    return \" \".join(sentence)\n",
    "\n",
    "get_secret_word([83,115,65,102,89])"
   ]
  },
  {
   "cell_type": "code",
   "execution_count": 170,
   "id": "86cd454b",
   "metadata": {},
   "outputs": [
    {
     "data": {
      "text/plain": [
       "336"
      ]
     },
     "execution_count": 170,
     "metadata": {},
     "output_type": "execute_result"
    }
   ],
   "source": [
    "def get_secret_number(sen):\n",
    "    total = 0\n",
    "    for i in range(0, len(sen)):\n",
    "        total = total + ord(sen[i])\n",
    "    return total\n",
    "\n",
    "get_secret_number('tom')"
   ]
  },
  {
   "cell_type": "code",
   "execution_count": 171,
   "id": "e5511aa5",
   "metadata": {},
   "outputs": [
    {
     "data": {
      "text/plain": [
       "111"
      ]
     },
     "execution_count": 171,
     "metadata": {},
     "output_type": "execute_result"
    }
   ],
   "source": [
    "sen ='tom'\n",
    "ord(sen[1])"
   ]
  },
  {
   "cell_type": "code",
   "execution_count": 180,
   "id": "32169e19",
   "metadata": {},
   "outputs": [
    {
     "ename": "IndexError",
     "evalue": "list index out of range",
     "output_type": "error",
     "traceback": [
      "\u001b[1;31m---------------------------------------------------------------------------\u001b[0m",
      "\u001b[1;31mIndexError\u001b[0m                                Traceback (most recent call last)",
      "\u001b[1;32m~\\AppData\\Local\\Temp/ipykernel_9552/3319073958.py\u001b[0m in \u001b[0;36m<module>\u001b[1;34m\u001b[0m\n\u001b[0;32m     11\u001b[0m \u001b[1;33m\u001b[0m\u001b[0m\n\u001b[0;32m     12\u001b[0m \u001b[1;33m\u001b[0m\u001b[0m\n\u001b[1;32m---> 13\u001b[1;33m \u001b[0mget_strong_word\u001b[0m\u001b[1;33m(\u001b[0m\u001b[1;34m'z'\u001b[0m\u001b[1;33m,\u001b[0m\u001b[1;34m'a'\u001b[0m\u001b[1;33m)\u001b[0m\u001b[1;33m\u001b[0m\u001b[1;33m\u001b[0m\u001b[0m\n\u001b[0m\u001b[0;32m     14\u001b[0m \u001b[0mget_strong_word\u001b[0m\u001b[1;33m(\u001b[0m\u001b[1;34m'tom'\u001b[0m\u001b[1;33m,\u001b[0m \u001b[1;34m'john'\u001b[0m\u001b[1;33m)\u001b[0m\u001b[1;33m\u001b[0m\u001b[1;33m\u001b[0m\u001b[0m\n",
      "\u001b[1;32m~\\AppData\\Local\\Temp/ipykernel_9552/3319073958.py\u001b[0m in \u001b[0;36mget_strong_word\u001b[1;34m(*word)\u001b[0m\n\u001b[0;32m      3\u001b[0m     \u001b[1;32mfor\u001b[0m \u001b[0mi\u001b[0m \u001b[1;32min\u001b[0m \u001b[0mrange\u001b[0m\u001b[1;33m(\u001b[0m\u001b[1;36m0\u001b[0m\u001b[1;33m,\u001b[0m\u001b[0mlen\u001b[0m\u001b[1;33m(\u001b[0m\u001b[0mword\u001b[0m\u001b[1;33m)\u001b[0m\u001b[1;33m)\u001b[0m\u001b[1;33m:\u001b[0m\u001b[1;33m\u001b[0m\u001b[1;33m\u001b[0m\u001b[0m\n\u001b[0;32m      4\u001b[0m         \u001b[1;32mfor\u001b[0m \u001b[0mj\u001b[0m \u001b[1;32min\u001b[0m \u001b[0mrange\u001b[0m\u001b[1;33m(\u001b[0m\u001b[1;36m0\u001b[0m\u001b[1;33m,\u001b[0m\u001b[0mlen\u001b[0m\u001b[1;33m(\u001b[0m\u001b[0mword\u001b[0m\u001b[1;33m[\u001b[0m\u001b[0mi\u001b[0m\u001b[1;33m]\u001b[0m\u001b[1;33m)\u001b[0m\u001b[1;33m)\u001b[0m\u001b[1;33m:\u001b[0m\u001b[1;33m\u001b[0m\u001b[1;33m\u001b[0m\u001b[0m\n\u001b[1;32m----> 5\u001b[1;33m             \u001b[0mnum\u001b[0m\u001b[1;33m[\u001b[0m\u001b[0mi\u001b[0m\u001b[1;33m]\u001b[0m \u001b[1;33m=\u001b[0m \u001b[0mnum\u001b[0m\u001b[1;33m[\u001b[0m\u001b[0mi\u001b[0m\u001b[1;33m]\u001b[0m \u001b[1;33m+\u001b[0m \u001b[0mord\u001b[0m\u001b[1;33m(\u001b[0m\u001b[0mword\u001b[0m\u001b[1;33m[\u001b[0m\u001b[0mi\u001b[0m\u001b[1;33m]\u001b[0m\u001b[1;33m[\u001b[0m\u001b[0mj\u001b[0m\u001b[1;33m]\u001b[0m\u001b[1;33m)\u001b[0m\u001b[1;33m\u001b[0m\u001b[1;33m\u001b[0m\u001b[0m\n\u001b[0m\u001b[0;32m      6\u001b[0m \u001b[1;31m#         if num[1] > num[0]:\u001b[0m\u001b[1;33m\u001b[0m\u001b[1;33m\u001b[0m\u001b[1;33m\u001b[0m\u001b[0m\n\u001b[0;32m      7\u001b[0m \u001b[1;31m#             strong = num[1]\u001b[0m\u001b[1;33m\u001b[0m\u001b[1;33m\u001b[0m\u001b[1;33m\u001b[0m\u001b[0m\n",
      "\u001b[1;31mIndexError\u001b[0m: list index out of range"
     ]
    }
   ],
   "source": [
    "def get_strong_word(*word):\n",
    "    num = []\n",
    "    for i in range(0,len(word)\n",
    "                  ):\n",
    "        for j in range(0,len(word[i])):\n",
    "            num[i] = num[i] + ord(word[i][j])\n",
    "#         if num[1] > num[0]:\n",
    "#             strong = num[1]\n",
    "#         else:\n",
    "#             strong = num[0]\n",
    "    return num\n",
    "\n",
    "\n",
    "get_strong_word('z','a')\n",
    "get_strong_word('tom', 'john')"
   ]
  },
  {
   "cell_type": "code",
   "execution_count": 176,
   "id": "be2a52b2",
   "metadata": {
    "scrolled": true
   },
   "outputs": [
    {
     "data": {
      "text/plain": [
       "1"
      ]
     },
     "execution_count": 176,
     "metadata": {},
     "output_type": "execute_result"
    }
   ],
   "source": [
    "len('z')"
   ]
  },
  {
   "cell_type": "code",
   "execution_count": null,
   "id": "8b9e142e",
   "metadata": {},
   "outputs": [],
   "source": []
  },
  {
   "cell_type": "code",
   "execution_count": 181,
   "id": "9c7bfb57",
   "metadata": {},
   "outputs": [
    {
     "data": {
      "text/plain": [
       "15"
      ]
     },
     "execution_count": 181,
     "metadata": {},
     "output_type": "execute_result"
    }
   ],
   "source": [
    "def sum_with_for(num):\n",
    "    total = 0\n",
    "    for i in range(1,num+1):\n",
    "        total = total + i\n",
    "    return total\n",
    "\n",
    "sum_with_for(5)"
   ]
  },
  {
   "cell_type": "code",
   "execution_count": 184,
   "id": "6e0f0827",
   "metadata": {},
   "outputs": [
    {
     "data": {
      "text/plain": [
       "15"
      ]
     },
     "execution_count": 184,
     "metadata": {},
     "output_type": "execute_result"
    }
   ],
   "source": [
    "def sum_with_while(num):\n",
    "    total = 0\n",
    "    i=1\n",
    "    while i <= num:\n",
    "        total = total + i\n",
    "        i+=1\n",
    "    return total\n",
    "sum_with_while(5)"
   ]
  },
  {
   "cell_type": "code",
   "execution_count": 198,
   "id": "6e64f395",
   "metadata": {},
   "outputs": [],
   "source": [
    "def mul_with_for(numbers):\n",
    "    square = 1\n",
    "    for i in range (0, len(numbers)):\n",
    "        square = square * numbers[i]\n",
    "    return square"
   ]
  },
  {
   "cell_type": "code",
   "execution_count": 199,
   "id": "6c1ae64a",
   "metadata": {},
   "outputs": [],
   "source": [
    "def mul_with_while(numbers):\n",
    "    square = 1\n",
    "    i = 1\n",
    "    while i < len(numbers):\n",
    "        square = square *  numbers[i]\n",
    "        i+=1\n",
    "    return square"
   ]
  },
  {
   "cell_type": "code",
   "execution_count": 200,
   "id": "d361ae15",
   "metadata": {},
   "outputs": [
    {
     "name": "stdout",
     "output_type": "stream",
     "text": [
      "정수를 입력하세요5\n",
      "120\n",
      "120\n"
     ]
    }
   ],
   "source": [
    "# 아래 코드는 바꾸지 않습니다.\n",
    "num = int(input('정수를 입력하세요'))\n",
    "numbers = list(range(1, num+1))\n",
    "\n",
    "# 아래 두코드 모두 in 4 => out 24 / in 5 => out 120 를 만족해야 합니다.\n",
    "print(mul_with_for(numbers))\n",
    "print(mul_with_while(numbers))"
   ]
  },
  {
   "cell_type": "code",
   "execution_count": 202,
   "id": "7bd0276c",
   "metadata": {},
   "outputs": [],
   "source": [
    "students = ['김철수', '이영희', '조민지']\n"
   ]
  },
  {
   "cell_type": "code",
   "execution_count": 203,
   "id": "4c406e0b",
   "metadata": {},
   "outputs": [
    {
     "name": "stdout",
     "output_type": "stream",
     "text": [
      "3\n",
      "3\n"
     ]
    }
   ],
   "source": [
    "# 학생 수라고 적혀 있지만, 사실 리스트의 길이를 구하는 문제이다.\n",
    "# 아마도 대부분 아래와 같이 코드를 작성했을 것이다. 아니어도 좋다!\n",
    "\n",
    "print(len(students))\n",
    "# 근데 이 것을 반복문을 활용해서 풀어보자.\n",
    "# 반 인원을 체크한다고 하자. 국룰은 바를 정을 하나씩 그리는 것이다.\n",
    "# 이 것을 코드로 옮겨보자.\n",
    "count=0\n",
    "for student in students:\n",
    "    count = count+1\n",
    "    \n",
    "print(count)"
   ]
  },
  {
   "cell_type": "code",
   "execution_count": null,
   "id": "d4dce880",
   "metadata": {},
   "outputs": [],
   "source": []
  },
  {
   "cell_type": "code",
   "execution_count": 207,
   "id": "32e95fb4",
   "metadata": {},
   "outputs": [],
   "source": [
    "def is_pal_while(word):\n",
    "    i=0\n",
    "    while i < len(word):\n",
    "        if word[0] == word[-1]:\n",
    "            word = word[1:len(word)-1]\n",
    "            i+=1\n",
    "        else:\n",
    "            return False\n",
    "    return True"
   ]
  },
  {
   "cell_type": "code",
   "execution_count": null,
   "id": "e8bc5402",
   "metadata": {},
   "outputs": [],
   "source": []
  },
  {
   "cell_type": "code",
   "execution_count": null,
   "id": "e917d17d",
   "metadata": {},
   "outputs": [],
   "source": []
  },
  {
   "cell_type": "code",
   "execution_count": 208,
   "id": "d70fb39c",
   "metadata": {
    "scrolled": true
   },
   "outputs": [
    {
     "name": "stdout",
     "output_type": "stream",
     "text": [
      "False\n",
      "True\n",
      "True\n"
     ]
    }
   ],
   "source": [
    "# 해당 코드를 통해 올바른 결과가 나오는지 확인하시오.\n",
    "print(is_pal_while('tomato'))\n",
    "print(is_pal_while('racecar'))\n",
    "print(is_pal_while('azza'))"
   ]
  },
  {
   "cell_type": "code",
   "execution_count": null,
   "id": "f5bca025",
   "metadata": {},
   "outputs": [],
   "source": [
    "def is_pal_recursive(word):\n",
    "    if len(word) <= 1:\n",
    "        return True\n",
    "    if word[0] == word[-1]:\n",
    "        word = word[1:len(word)-1]\n",
    "    else:\n",
    "        return False \n"
   ]
  },
  {
   "cell_type": "code",
   "execution_count": null,
   "id": "20e8e96d",
   "metadata": {},
   "outputs": [],
   "source": [
    "# 해당 코드를 통해 올바른 결과가 나오는지 확인하시오.\n",
    "print(is_pal_recursive('tomato'))\n",
    "print(is_pal_recursive('racecar'))\n",
    "print(is_pal_recursive('azza'))"
   ]
  },
  {
   "cell_type": "code",
   "execution_count": null,
   "id": "96ae86ce",
   "metadata": {},
   "outputs": [],
   "source": []
  },
  {
   "cell_type": "code",
   "execution_count": null,
   "id": "09aa0ee0",
   "metadata": {},
   "outputs": [],
   "source": [
    "def ssafy():\n",
    "    print('Hello, ssafy!')\n",
    "    ssafy()\n",
    " \n",
    "ssafy()"
   ]
  },
  {
   "cell_type": "code",
   "execution_count": 1,
   "id": "ee41fe58",
   "metadata": {},
   "outputs": [
    {
     "name": "stdout",
     "output_type": "stream",
     "text": [
      "입력을 해주세요ㄹㄴㅇㄹ\n",
      "제발 숫자만 입력해주세요\n"
     ]
    }
   ],
   "source": [
    "try:\n",
    "    num = input('입력을 해주세요')\n",
    "    print(int(num))\n",
    "except:\n",
    "    print(\"제발 숫자만 입력해주세요\")"
   ]
  },
  {
   "cell_type": "code",
   "execution_count": 9,
   "id": "e8d85c35",
   "metadata": {},
   "outputs": [
    {
     "name": "stdout",
     "output_type": "stream",
     "text": [
      "입력을 해주세요341\n",
      "341\n"
     ]
    }
   ],
   "source": [
    "try:\n",
    "    num = input(\"입력을 해주세요\")\n",
    "    print(str(num))\n",
    "except Exception:\n",
    "    print(\"에러에요\")\n",
    "except ValueError:\n",
    "    print(\"문자를 넣어라\")"
   ]
  },
  {
   "cell_type": "code",
   "execution_count": null,
   "id": "2f375880",
   "metadata": {},
   "outputs": [],
   "source": []
  },
  {
   "cell_type": "code",
   "execution_count": null,
   "id": "f1901e86",
   "metadata": {},
   "outputs": [],
   "source": []
  }
 ],
 "metadata": {
  "kernelspec": {
   "display_name": "Python 3 (ipykernel)",
   "language": "python",
   "name": "python3"
  },
  "language_info": {
   "codemirror_mode": {
    "name": "ipython",
    "version": 3
   },
   "file_extension": ".py",
   "mimetype": "text/x-python",
   "name": "python",
   "nbconvert_exporter": "python",
   "pygments_lexer": "ipython3",
   "version": "3.9.6"
  },
  "toc": {
   "base_numbering": 1,
   "nav_menu": {},
   "number_sections": true,
   "sideBar": true,
   "skip_h1_title": false,
   "title_cell": "Table of Contents",
   "title_sidebar": "Contents",
   "toc_cell": false,
   "toc_position": {},
   "toc_section_display": true,
   "toc_window_display": false
  }
 },
 "nbformat": 4,
 "nbformat_minor": 5
}
